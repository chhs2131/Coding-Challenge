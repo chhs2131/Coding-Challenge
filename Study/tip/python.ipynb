{
 "cells": [
  {
   "cell_type": "markdown",
   "source": [
    "# Python Tip\n",
    "\n",
    "# 범용\n",
    "\n",
    "## 빠른 입력받기 (sys.stdin.readline)"
   ],
   "metadata": {
    "collapsed": false
   }
  },
  {
   "cell_type": "code",
   "execution_count": null,
   "outputs": [],
   "source": [
    "import sys\n",
    "number = int(sys.stdin.readline())  # input으로 받으면 느림"
   ],
   "metadata": {
    "collapsed": false,
    "pycharm": {
     "name": "#%%\n"
    }
   }
  },
  {
   "cell_type": "markdown",
   "source": [
    "# 자료구조\n",
    "## 힙메모리\n",
    "### 우선순위큐 (heapq)\n",
    "https://www.daleseo.com/python-heapq/"
   ],
   "metadata": {
    "collapsed": false,
    "pycharm": {
     "name": "#%% md\n"
    }
   }
  },
  {
   "cell_type": "code",
   "execution_count": null,
   "outputs": [],
   "source": [
    "import heapq\n",
    "pq = []\n",
    "print(heapq.heappop(pq))\n",
    "# or\n",
    "print(pq[0])\n",
    "heapq.heappush(pq, int(12345))"
   ],
   "metadata": {
    "collapsed": false,
    "pycharm": {
     "name": "#%%\n"
    }
   }
  },
  {
   "cell_type": "markdown",
   "source": [
    "# 참고자료\n",
    "https://kukuta.tistory.com/348\n",
    "\n"
   ],
   "metadata": {
    "collapsed": false,
    "pycharm": {
     "name": "#%% md\n"
    }
   }
  }
 ],
 "metadata": {
  "kernelspec": {
   "display_name": "Python 3",
   "language": "python",
   "name": "python3"
  },
  "language_info": {
   "codemirror_mode": {
    "name": "ipython",
    "version": 2
   },
   "file_extension": ".py",
   "mimetype": "text/x-python",
   "name": "python",
   "nbconvert_exporter": "python",
   "pygments_lexer": "ipython2",
   "version": "2.7.6"
  }
 },
 "nbformat": 4,
 "nbformat_minor": 0
}